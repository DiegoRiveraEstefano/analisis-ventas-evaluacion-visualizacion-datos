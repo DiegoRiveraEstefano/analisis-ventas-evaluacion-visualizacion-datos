{
 "cells": [
  {
   "cell_type": "code",
   "execution_count": 1,
   "id": "9dd5b229",
   "metadata": {},
   "outputs": [],
   "source": [
    "import polars as pl\n",
    "import matplotlib.pyplot as plt\n",
    "import seaborn as sns\n",
    "from pathlib import Path"
   ]
  },
  {
   "cell_type": "code",
   "execution_count": 2,
   "id": "00df5328",
   "metadata": {},
   "outputs": [
    {
     "data": {
      "text/html": [
       "<div><style>\n",
       ".dataframe > thead > tr,\n",
       ".dataframe > tbody > tr {\n",
       "  text-align: right;\n",
       "  white-space: pre-wrap;\n",
       "}\n",
       "</style>\n",
       "<small>shape: (5, 6)</small><table border=\"1\" class=\"dataframe\"><thead><tr><th>id_venta</th><th>producto</th><th>cantidad</th><th>precio_unitario</th><th>fecha_venta</th><th>region</th></tr><tr><td>i64</td><td>str</td><td>i64</td><td>str</td><td>str</td><td>str</td></tr></thead><tbody><tr><td>1001</td><td>&quot;Snacks&quot;</td><td>5530</td><td>&quot; 152,58 € &quot;</td><td>&quot;30/11/2020&quot;</td><td>&quot;Norte&quot;</td></tr><tr><td>1002</td><td>&quot;Cárnicos&quot;</td><td>994</td><td>&quot; 421,89 € &quot;</td><td>&quot;28/01/2020&quot;</td><td>&quot;Centro&quot;</td></tr><tr><td>1003</td><td>&quot;Cereales&quot;</td><td>6845</td><td>&quot; 205,70 € &quot;</td><td>&quot;21/11/2020&quot;</td><td>&quot;Norte&quot;</td></tr><tr><td>1004</td><td>&quot;Frutas&quot;</td><td>9806</td><td>&quot; 9,33 € &quot;</td><td>&quot;02/10/2021&quot;</td><td>&quot;Sur&quot;</td></tr><tr><td>1005</td><td>&quot;Alimento infantil&quot;</td><td>3633</td><td>&quot; 255,28 € &quot;</td><td>&quot;12/11/2022&quot;</td><td>&quot;Norte&quot;</td></tr></tbody></table></div>"
      ],
      "text/plain": [
       "shape: (5, 6)\n",
       "┌──────────┬───────────────────┬──────────┬─────────────────┬─────────────┬────────┐\n",
       "│ id_venta ┆ producto          ┆ cantidad ┆ precio_unitario ┆ fecha_venta ┆ region │\n",
       "│ ---      ┆ ---               ┆ ---      ┆ ---             ┆ ---         ┆ ---    │\n",
       "│ i64      ┆ str               ┆ i64      ┆ str             ┆ str         ┆ str    │\n",
       "╞══════════╪═══════════════════╪══════════╪═════════════════╪═════════════╪════════╡\n",
       "│ 1001     ┆ Snacks            ┆ 5530     ┆  152,58 €       ┆ 30/11/2020  ┆ Norte  │\n",
       "│ 1002     ┆ Cárnicos          ┆ 994      ┆  421,89 €       ┆ 28/01/2020  ┆ Centro │\n",
       "│ 1003     ┆ Cereales          ┆ 6845     ┆  205,70 €       ┆ 21/11/2020  ┆ Norte  │\n",
       "│ 1004     ┆ Frutas            ┆ 9806     ┆  9,33 €         ┆ 02/10/2021  ┆ Sur    │\n",
       "│ 1005     ┆ Alimento infantil ┆ 3633     ┆  255,28 €       ┆ 12/11/2022  ┆ Norte  │\n",
       "└──────────┴───────────────────┴──────────┴─────────────────┴─────────────┴────────┘"
      ]
     },
     "execution_count": 2,
     "metadata": {},
     "output_type": "execute_result"
    }
   ],
   "source": [
    "file_path = Path('../data/raw/Ventas.csv' )# Asegúrate de que este archivo esté en la misma ruta que tu notebook o proporciona la ruta completa.\n",
    "\n",
    "df = pl.read_csv(file_path.absolute(), encoding='windows-1252', separator=';')\n",
    "\n",
    "df.head()"
   ]
  },
  {
   "cell_type": "code",
   "execution_count": 7,
   "id": "41e41560",
   "metadata": {},
   "outputs": [
    {
     "data": {
      "text/html": [
       "<div><style>\n",
       ".dataframe > thead > tr,\n",
       ".dataframe > tbody > tr {\n",
       "  text-align: right;\n",
       "  white-space: pre-wrap;\n",
       "}\n",
       "</style>\n",
       "<small>shape: (6, 4)</small><table border=\"1\" class=\"dataframe\"><thead><tr><th>Columna</th><th>Nulos_Count</th><th>Nulos_Porcentaje</th><th>Tipo_Dato</th></tr><tr><td>str</td><td>i64</td><td>f64</td><td>str</td></tr></thead><tbody><tr><td>&quot;region&quot;</td><td>163</td><td>16.3</td><td>&quot;String&quot;</td></tr><tr><td>&quot;producto&quot;</td><td>17</td><td>1.7</td><td>&quot;String&quot;</td></tr><tr><td>&quot;cantidad&quot;</td><td>11</td><td>1.1</td><td>&quot;Int64&quot;</td></tr><tr><td>&quot;id_venta&quot;</td><td>0</td><td>0.0</td><td>&quot;Int64&quot;</td></tr><tr><td>&quot;precio_unitario&quot;</td><td>0</td><td>0.0</td><td>&quot;String&quot;</td></tr><tr><td>&quot;fecha_venta&quot;</td><td>0</td><td>0.0</td><td>&quot;String&quot;</td></tr></tbody></table></div>"
      ],
      "text/plain": [
       "shape: (6, 4)\n",
       "┌─────────────────┬─────────────┬──────────────────┬───────────┐\n",
       "│ Columna         ┆ Nulos_Count ┆ Nulos_Porcentaje ┆ Tipo_Dato │\n",
       "│ ---             ┆ ---         ┆ ---              ┆ ---       │\n",
       "│ str             ┆ i64         ┆ f64              ┆ str       │\n",
       "╞═════════════════╪═════════════╪══════════════════╪═══════════╡\n",
       "│ region          ┆ 163         ┆ 16.3             ┆ String    │\n",
       "│ producto        ┆ 17          ┆ 1.7              ┆ String    │\n",
       "│ cantidad        ┆ 11          ┆ 1.1              ┆ Int64     │\n",
       "│ id_venta        ┆ 0           ┆ 0.0              ┆ Int64     │\n",
       "│ precio_unitario ┆ 0           ┆ 0.0              ┆ String    │\n",
       "│ fecha_venta     ┆ 0           ┆ 0.0              ┆ String    │\n",
       "└─────────────────┴─────────────┴──────────────────┴───────────┘"
      ]
     },
     "execution_count": 7,
     "metadata": {},
     "output_type": "execute_result"
    }
   ],
   "source": [
    "# valores nulos\n",
    "if df.is_empty():\n",
    "    print(\"El DataFrame está vacío. No hay columnas para analizar.\")\n",
    "\n",
    "# Crear una lista para almacenar los resultados de cada columna\n",
    "resultados = []\n",
    "total_filas = df.height\n",
    "\n",
    "for column_name in df.columns:\n",
    "    # Contar el número de valores nulos en la columna actual\n",
    "    nulos_count = df[column_name].is_null().sum()\n",
    "\n",
    "    # Calcular el porcentaje de valores nulos\n",
    "    nulos_porcentaje = (nulos_count / total_filas) * 100 if total_filas > 0 else 0\n",
    "\n",
    "    # Obtener el tipo de dato de la columna\n",
    "    tipo_dato = df[column_name].dtype\n",
    "\n",
    "    resultados.append({\n",
    "        'Columna': column_name,\n",
    "        'Nulos_Count': nulos_count,\n",
    "        'Nulos_Porcentaje': nulos_porcentaje,\n",
    "        'Tipo_Dato': str(tipo_dato) # Convertir el tipo de dato a string para el DataFrame final\n",
    "    })\n",
    "\n",
    "# Convertir la lista de diccionarios a un DataFrame de Polars\n",
    "resumen_nulos = pl.DataFrame(resultados)\n",
    "\n",
    "# Ordenar por porcentaje de nulos de forma descendente\n",
    "resumen_nulos = resumen_nulos.sort(by='Nulos_Porcentaje', descending=True)\n",
    "resumen_nulos"
   ]
  },
  {
   "cell_type": "code",
   "execution_count": 3,
   "id": "db9aecc9",
   "metadata": {},
   "outputs": [],
   "source": [
    "df_ventas_pl = df.with_columns(\n",
    "    # 1. Conversión de tipos de datos\n",
    "    # Convertir 'fecha_venta' a datetime\n",
    "    pl.col('fecha_venta').str.strptime(pl.Date, format='%d/%m/%Y', strict=False).alias('fecha_venta'),\n",
    "    # Limpiar y convertir 'precio_unitario' a numérico (float)\n",
    "    pl.col('precio_unitario').str.replace(' €', '').str.replace(',', '.', literal=True).str.replace(' ', '', n=2).cast(pl.Float64).alias('precio_unitario'),\n",
    "    # Convertir 'cantidad' a numérico\n",
    "    pl.col('cantidad').cast(pl.Int64).alias('cantidad')\n",
    ")"
   ]
  },
  {
   "cell_type": "code",
   "execution_count": 4,
   "id": "e66efbff",
   "metadata": {},
   "outputs": [],
   "source": [
    "# 2. Manejo de valores nulos\n",
    "# Para 'producto': Identificado en la muestra, una fila tenía 'producto' vacío.\n",
    "# En Polars, `fill_null` o `fill_nan` se usan para nulos. Los strings vacíos no son nulos por defecto.\n",
    "# Primero, reemplazar strings vacíos con nulos para poder usar fill_null\n",
    "df_ventas_pl = df_ventas_pl.with_columns(\n",
    "    pl.when(pl.col('producto') == '').then(pl.lit(None, pl.String)).otherwise(pl.col('producto')).alias('producto')\n",
    ")\n",
    "# Ahora llenar los nulos en 'producto'\n",
    "df_ventas_pl = df_ventas_pl.with_columns(\n",
    "    pl.col('producto').fill_null('Desconocido').alias('producto')\n",
    ")"
   ]
  },
  {
   "cell_type": "code",
   "execution_count": 5,
   "id": "8d857aa8",
   "metadata": {},
   "outputs": [
    {
     "name": "stdout",
     "output_type": "stream",
     "text": [
      "\n",
      "--- Manejo de valores nulos (Imputación por Media/Moda) ---\n",
      "Valores nulos en 'cantidad' imputados con la media (4975.12).\n",
      "Valores nulos en 'region' imputados con la moda ('Sur').\n",
      "\n",
      "Valores nulos después de la imputación/eliminación final:\n",
      "shape: (1, 6)\n",
      "┌──────────┬──────────┬──────────┬─────────────────┬─────────────┬────────┐\n",
      "│ id_venta ┆ producto ┆ cantidad ┆ precio_unitario ┆ fecha_venta ┆ region │\n",
      "│ ---      ┆ ---      ┆ ---      ┆ ---             ┆ ---         ┆ ---    │\n",
      "│ u32      ┆ u32      ┆ u32      ┆ u32             ┆ u32         ┆ u32    │\n",
      "╞══════════╪══════════╪══════════╪═════════════════╪═════════════╪════════╡\n",
      "│ 0        ┆ 0        ┆ 0        ┆ 0               ┆ 0           ┆ 0      │\n",
      "└──────────┴──────────┴──────────┴─────────────────┴─────────────┴────────┘\n"
     ]
    }
   ],
   "source": [
    "# Eliminar filas con nulos en columnas críticas después de la transformación\n",
    "\n",
    "print(\"\\n--- Manejo de valores nulos (Imputación por Media/Moda) ---\")\n",
    "\n",
    "# Columnas numéricas para imputar con la media\n",
    "numeric_cols_to_impute = ['precio_unitario', 'cantidad']\n",
    "\n",
    "for col in numeric_cols_to_impute:\n",
    "    if df_ventas_pl[col].null_count() <= 0:\n",
    "        continue # Si no hay nulos, saltar\n",
    "\n",
    "    # Calcular la media de la columna\n",
    "    mean_value = df_ventas_pl[col].mean()\n",
    "    # Imputar los valores nulos con la media calculada\n",
    "    df_ventas_pl = df_ventas_pl.with_columns(\n",
    "        pl.col(col).fill_null(mean_value).alias(col)\n",
    "    )\n",
    "    print(f\"Valores nulos en '{col}' imputados con la media ({mean_value:.2f}).\")\n",
    "\n",
    "# Columnas categóricas para imputar con la moda\n",
    "categorical_cols_to_impute = ['region'] # Añade aquí otras columnas categóricas si es necesario\n",
    "\n",
    "for col in categorical_cols_to_impute:\n",
    "    if df_ventas_pl[col].null_count() <= 0:\n",
    "        continue # Si no hay nulos, saltar\n",
    "\n",
    "    # Calcular la moda (valor más frecuente) de la columna\n",
    "    # Polars tiene un método `mode()`. Si hay múltiples modas, toma la primera.\n",
    "    mode_value = df_ventas_pl.group_by(col).len().sort(by='len', descending=True).select(col).head(1).item()\n",
    "    \n",
    "    # Imputar los valores nulos con la moda calculada\n",
    "    df_ventas_pl = df_ventas_pl.with_columns(\n",
    "        pl.col(col).fill_null(mode_value).alias(col)\n",
    "    )\n",
    "    print(f\"Valores nulos en '{col}' imputados con la moda ('{mode_value}').\")\n",
    "\n",
    "\n",
    "\n",
    "initial_rows_before_date_dropna = df_ventas_pl.shape[0]\n",
    "df_ventas_pl = df_ventas_pl.drop_nulls(subset=['fecha_venta'])\n",
    "rows_removed_date_nulls = initial_rows_before_date_dropna - df_ventas_pl.shape[0]\n",
    "\n",
    "if rows_removed_date_nulls > 0:\n",
    "    print(f\"Se eliminaron {rows_removed_date_nulls} filas con valores nulos en 'fecha_venta' (después de intentar la conversión).\")\n",
    "\n",
    "print(\"\\nValores nulos después de la imputación/eliminación final:\")\n",
    "print(df_ventas_pl.null_count()) # Usar .null_count() en Polars para ver los nulos por columna"
   ]
  },
  {
   "cell_type": "code",
   "execution_count": 21,
   "id": "bb82d927",
   "metadata": {},
   "outputs": [
    {
     "name": "stdout",
     "output_type": "stream",
     "text": [
      "Se eliminaron 9 filas donde 'cantidad' era igual o menor a 0.\n"
     ]
    }
   ],
   "source": [
    "# 4. Tratamiento de valores atípicos (ej: cantidad = 0)\n",
    "initial_rows_before_zero = df_ventas_pl.shape[0]\n",
    "df_ventas_pl = df_ventas_pl.filter(pl.col('cantidad') > 0)\n",
    "rows_removed_zero_qty = initial_rows_before_zero - df_ventas_pl.shape[0]\n",
    "if rows_removed_zero_qty > 0:\n",
    "    print(f\"Se eliminaron {rows_removed_zero_qty} filas donde 'cantidad' era igual o menor a 0.\")\n"
   ]
  },
  {
   "cell_type": "code",
   "execution_count": 23,
   "id": "bec93477",
   "metadata": {},
   "outputs": [],
   "source": [
    "# Guardar el DataFrame transformado a un archivo CSV para uso posterior\n",
    "output_file_path = Path('../data/processed/Ventas_cleaned.parquet')\n",
    "csv_output_file_path = Path('../data/processed/Ventas_cleaned.csv')\n",
    "df_ventas_pl.write_parquet(output_file_path)\n",
    "df_ventas_pl.write_csv(csv_output_file_path)\n"
   ]
  }
 ],
 "metadata": {
  "kernelspec": {
   "display_name": ".venv",
   "language": "python",
   "name": "python3"
  },
  "language_info": {
   "codemirror_mode": {
    "name": "ipython",
    "version": 3
   },
   "file_extension": ".py",
   "mimetype": "text/x-python",
   "name": "python",
   "nbconvert_exporter": "python",
   "pygments_lexer": "ipython3",
   "version": "3.12.8"
  }
 },
 "nbformat": 4,
 "nbformat_minor": 5
}
