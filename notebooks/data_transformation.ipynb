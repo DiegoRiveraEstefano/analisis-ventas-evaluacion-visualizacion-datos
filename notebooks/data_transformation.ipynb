{
 "cells": [
  {
   "cell_type": "code",
   "execution_count": 1,
   "id": "2cbee3e5",
   "metadata": {},
   "outputs": [],
   "source": [
    "import polars as pl\n",
    "import matplotlib.pyplot as plt\n",
    "import seaborn as sns\n",
    "from pathlib import Path\n",
    "import pandas as pd"
   ]
  },
  {
   "cell_type": "code",
   "execution_count": 2,
   "id": "617a34c9",
   "metadata": {},
   "outputs": [],
   "source": [
    "# cargar el DataFrame transformado\n",
    "file_path = Path('../data/processed/Ventas_cleaned.parquet')\n",
    "df_ventas_pl = pl.read_parquet(file_path)"
   ]
  },
  {
   "cell_type": "code",
   "execution_count": 3,
   "id": "adcbc0c3",
   "metadata": {},
   "outputs": [],
   "source": [
    "# Agregar columna 'valor_total_venta' a DataFrame\n",
    "df_ventas_pl = df_ventas_pl.with_columns(\n",
    "    (pl.col('cantidad') * pl.col('precio_unitario')).alias('valor_total_venta')\n",
    ")\n"
   ]
  },
  {
   "cell_type": "code",
   "execution_count": 4,
   "id": "d2375948",
   "metadata": {},
   "outputs": [],
   "source": [
    "# Separar la fecha de venta en año, mes y día de la semana\n",
    "df_ventas_pl = df_ventas_pl.with_columns(\n",
    "    pl.col('fecha_venta').dt.year().alias('año_venta'),\n",
    "    pl.col('fecha_venta').dt.month().alias('mes_venta'),\n",
    "    pl.col('fecha_venta').dt.weekday().alias('dia_semana_num') # Lunes=1, Domingo=7\n",
    ")"
   ]
  },
  {
   "cell_type": "code",
   "execution_count": 5,
   "id": "cf8cc2aa",
   "metadata": {},
   "outputs": [
    {
     "data": {
      "text/plain": [
       "(991, 10)"
      ]
     },
     "execution_count": 5,
     "metadata": {},
     "output_type": "execute_result"
    }
   ],
   "source": [
    "output_file_path = Path('../data/processed/Ventas_Transformadas.parquet')\n",
    "cvs_output_file_path = Path('../data/processed/Ventas_Transformadas.csv')\n",
    "df_ventas_pl.write_parquet(output_file_path)\n",
    "df_ventas_pl.shape"
   ]
  }
 ],
 "metadata": {
  "kernelspec": {
   "display_name": ".venv",
   "language": "python",
   "name": "python3"
  },
  "language_info": {
   "codemirror_mode": {
    "name": "ipython",
    "version": 3
   },
   "file_extension": ".py",
   "mimetype": "text/x-python",
   "name": "python",
   "nbconvert_exporter": "python",
   "pygments_lexer": "ipython3",
   "version": "3.12.8"
  }
 },
 "nbformat": 4,
 "nbformat_minor": 5
}
